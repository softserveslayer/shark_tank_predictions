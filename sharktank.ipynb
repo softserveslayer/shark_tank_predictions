{
 "cells": [
  {
   "cell_type": "code",
   "execution_count": 203,
   "metadata": {},
   "outputs": [
    {
     "data": {
      "text/html": [
       "<div>\n",
       "<style scoped>\n",
       "    .dataframe tbody tr th:only-of-type {\n",
       "        vertical-align: middle;\n",
       "    }\n",
       "\n",
       "    .dataframe tbody tr th {\n",
       "        vertical-align: top;\n",
       "    }\n",
       "\n",
       "    .dataframe thead th {\n",
       "        text-align: right;\n",
       "    }\n",
       "</style>\n",
       "<table border=\"1\" class=\"dataframe\">\n",
       "  <thead>\n",
       "    <tr style=\"text-align: right;\">\n",
       "      <th></th>\n",
       "      <th>deal</th>\n",
       "      <th>description</th>\n",
       "      <th>episode</th>\n",
       "      <th>category</th>\n",
       "      <th>entrepreneurs</th>\n",
       "      <th>location</th>\n",
       "      <th>website</th>\n",
       "      <th>askedFor</th>\n",
       "      <th>exchangeForStake</th>\n",
       "      <th>valuation</th>\n",
       "      <th>season</th>\n",
       "      <th>shark1</th>\n",
       "      <th>shark2</th>\n",
       "      <th>shark3</th>\n",
       "      <th>shark4</th>\n",
       "      <th>shark5</th>\n",
       "      <th>title</th>\n",
       "      <th>episode-season</th>\n",
       "      <th>Multiple Entreprenuers</th>\n",
       "    </tr>\n",
       "  </thead>\n",
       "  <tbody>\n",
       "    <tr>\n",
       "      <th>0</th>\n",
       "      <td>False</td>\n",
       "      <td>Bluetooth device implant for your ear.</td>\n",
       "      <td>1</td>\n",
       "      <td>Novelties</td>\n",
       "      <td>Darrin Johnson</td>\n",
       "      <td>St. Paul, MN</td>\n",
       "      <td>NaN</td>\n",
       "      <td>1000000</td>\n",
       "      <td>15</td>\n",
       "      <td>6666667</td>\n",
       "      <td>1</td>\n",
       "      <td>Barbara Corcoran</td>\n",
       "      <td>Robert Herjavec</td>\n",
       "      <td>Kevin O'Leary</td>\n",
       "      <td>Daymond John</td>\n",
       "      <td>Kevin Harrington</td>\n",
       "      <td>Ionic Ear</td>\n",
       "      <td>1-1</td>\n",
       "      <td>False</td>\n",
       "    </tr>\n",
       "    <tr>\n",
       "      <th>1</th>\n",
       "      <td>True</td>\n",
       "      <td>Retail and wholesale pie factory with two reta...</td>\n",
       "      <td>1</td>\n",
       "      <td>Specialty Food</td>\n",
       "      <td>Tod Wilson</td>\n",
       "      <td>Somerset, NJ</td>\n",
       "      <td>http://whybake.com/</td>\n",
       "      <td>460000</td>\n",
       "      <td>10</td>\n",
       "      <td>4600000</td>\n",
       "      <td>1</td>\n",
       "      <td>Barbara Corcoran</td>\n",
       "      <td>Robert Herjavec</td>\n",
       "      <td>Kevin O'Leary</td>\n",
       "      <td>Daymond John</td>\n",
       "      <td>Kevin Harrington</td>\n",
       "      <td>Mr. Tod's Pie Factory</td>\n",
       "      <td>1-1</td>\n",
       "      <td>False</td>\n",
       "    </tr>\n",
       "    <tr>\n",
       "      <th>2</th>\n",
       "      <td>True</td>\n",
       "      <td>Ava the Elephant is a godsend for frazzled par...</td>\n",
       "      <td>1</td>\n",
       "      <td>Baby and Child Care</td>\n",
       "      <td>Tiffany Krumins</td>\n",
       "      <td>Atlanta, GA</td>\n",
       "      <td>http://www.avatheelephant.com/</td>\n",
       "      <td>50000</td>\n",
       "      <td>15</td>\n",
       "      <td>333333</td>\n",
       "      <td>1</td>\n",
       "      <td>Barbara Corcoran</td>\n",
       "      <td>Robert Herjavec</td>\n",
       "      <td>Kevin O'Leary</td>\n",
       "      <td>Daymond John</td>\n",
       "      <td>Kevin Harrington</td>\n",
       "      <td>Ava the Elephant</td>\n",
       "      <td>1-1</td>\n",
       "      <td>False</td>\n",
       "    </tr>\n",
       "    <tr>\n",
       "      <th>3</th>\n",
       "      <td>False</td>\n",
       "      <td>Organizing, packing, and moving services deliv...</td>\n",
       "      <td>1</td>\n",
       "      <td>Consumer Services</td>\n",
       "      <td>Nick Friedman, Omar Soliman</td>\n",
       "      <td>Tampa, FL</td>\n",
       "      <td>http://collegehunkshaulingjunk.com/</td>\n",
       "      <td>250000</td>\n",
       "      <td>25</td>\n",
       "      <td>1000000</td>\n",
       "      <td>1</td>\n",
       "      <td>Barbara Corcoran</td>\n",
       "      <td>Robert Herjavec</td>\n",
       "      <td>Kevin O'Leary</td>\n",
       "      <td>Daymond John</td>\n",
       "      <td>Kevin Harrington</td>\n",
       "      <td>College Foxes Packing Boxes</td>\n",
       "      <td>1-1</td>\n",
       "      <td>False</td>\n",
       "    </tr>\n",
       "    <tr>\n",
       "      <th>4</th>\n",
       "      <td>False</td>\n",
       "      <td>Interactive media centers for healthcare waiti...</td>\n",
       "      <td>1</td>\n",
       "      <td>Consumer Services</td>\n",
       "      <td>Kevin Flannery</td>\n",
       "      <td>Cary, NC</td>\n",
       "      <td>http://www.wispots.com/</td>\n",
       "      <td>1200000</td>\n",
       "      <td>10</td>\n",
       "      <td>12000000</td>\n",
       "      <td>1</td>\n",
       "      <td>Barbara Corcoran</td>\n",
       "      <td>Robert Herjavec</td>\n",
       "      <td>Kevin O'Leary</td>\n",
       "      <td>Daymond John</td>\n",
       "      <td>Kevin Harrington</td>\n",
       "      <td>Wispots</td>\n",
       "      <td>1-1</td>\n",
       "      <td>False</td>\n",
       "    </tr>\n",
       "  </tbody>\n",
       "</table>\n",
       "</div>"
      ],
      "text/plain": [
       "    deal                                        description  episode  \\\n",
       "0  False             Bluetooth device implant for your ear.        1   \n",
       "1   True  Retail and wholesale pie factory with two reta...        1   \n",
       "2   True  Ava the Elephant is a godsend for frazzled par...        1   \n",
       "3  False  Organizing, packing, and moving services deliv...        1   \n",
       "4  False  Interactive media centers for healthcare waiti...        1   \n",
       "\n",
       "              category                entrepreneurs      location  \\\n",
       "0            Novelties               Darrin Johnson  St. Paul, MN   \n",
       "1       Specialty Food                   Tod Wilson  Somerset, NJ   \n",
       "2  Baby and Child Care              Tiffany Krumins   Atlanta, GA   \n",
       "3    Consumer Services  Nick Friedman, Omar Soliman     Tampa, FL   \n",
       "4    Consumer Services               Kevin Flannery      Cary, NC   \n",
       "\n",
       "                               website  askedFor  exchangeForStake  valuation  \\\n",
       "0                                  NaN   1000000                15    6666667   \n",
       "1                  http://whybake.com/    460000                10    4600000   \n",
       "2       http://www.avatheelephant.com/     50000                15     333333   \n",
       "3  http://collegehunkshaulingjunk.com/    250000                25    1000000   \n",
       "4              http://www.wispots.com/   1200000                10   12000000   \n",
       "\n",
       "   season            shark1           shark2         shark3        shark4  \\\n",
       "0       1  Barbara Corcoran  Robert Herjavec  Kevin O'Leary  Daymond John   \n",
       "1       1  Barbara Corcoran  Robert Herjavec  Kevin O'Leary  Daymond John   \n",
       "2       1  Barbara Corcoran  Robert Herjavec  Kevin O'Leary  Daymond John   \n",
       "3       1  Barbara Corcoran  Robert Herjavec  Kevin O'Leary  Daymond John   \n",
       "4       1  Barbara Corcoran  Robert Herjavec  Kevin O'Leary  Daymond John   \n",
       "\n",
       "             shark5                        title episode-season  \\\n",
       "0  Kevin Harrington                    Ionic Ear            1-1   \n",
       "1  Kevin Harrington        Mr. Tod's Pie Factory            1-1   \n",
       "2  Kevin Harrington             Ava the Elephant            1-1   \n",
       "3  Kevin Harrington  College Foxes Packing Boxes            1-1   \n",
       "4  Kevin Harrington                      Wispots            1-1   \n",
       "\n",
       "   Multiple Entreprenuers  \n",
       "0                   False  \n",
       "1                   False  \n",
       "2                   False  \n",
       "3                   False  \n",
       "4                   False  "
      ]
     },
     "execution_count": 203,
     "metadata": {},
     "output_type": "execute_result"
    }
   ],
   "source": [
    "import pandas as pd\n",
    "df = pd.read_csv('shark_tank.csv')\n",
    "df.head()"
   ]
  },
  {
   "cell_type": "code",
   "execution_count": 204,
   "metadata": {},
   "outputs": [
    {
     "data": {
      "text/plain": [
       "True     251\n",
       "False    244\n",
       "Name: deal, dtype: int64"
      ]
     },
     "execution_count": 204,
     "metadata": {},
     "output_type": "execute_result"
    }
   ],
   "source": [
    "df.deal.value_counts()"
   ]
  },
  {
   "cell_type": "code",
   "execution_count": 205,
   "metadata": {},
   "outputs": [],
   "source": [
    "import pandas as pd\n",
    "import numpy as np\n",
    "from sklearn import preprocessing\n",
    "import matplotlib.pyplot as plt \n",
    "plt.rc(\"font\", size=14)\n",
    "from sklearn.linear_model import LogisticRegression\n",
    "from sklearn.model_selection import train_test_split\n",
    "import seaborn as sns\n",
    "sns.set(style=\"white\")\n",
    "sns.set(style=\"whitegrid\", color_codes=True)"
   ]
  },
  {
   "cell_type": "code",
   "execution_count": 206,
   "metadata": {},
   "outputs": [
    {
     "data": {
      "text/plain": [
       "<matplotlib.axes._subplots.AxesSubplot at 0x1a21399f28>"
      ]
     },
     "execution_count": 206,
     "metadata": {},
     "output_type": "execute_result"
    },
    {
     "data": {
      "image/png": "[encoded data removed]",
      "text/plain": [
       "<Figure size 432x288 with 1 Axes>"
      ]
     },
     "metadata": {},
     "output_type": "display_data"
    }
   ],
   "source": [
    "sns.countplot(x = df.deal)"
   ]
  },
  {
   "cell_type": "code",
   "execution_count": 207,
   "metadata": {},
   "outputs": [],
   "source": [
    "df['category']=np.where(df['category'] ==\"Women's Apparel\", 'Apparel_Shoes', df['category'])\n",
    "df['category']=np.where(df['category'] ==\"Men and Women's Apparel\", 'Apparel_Shoes', df['category'])\n",
    "df['category']=np.where(df['category'] ==\"Baby and Children's Apparel and Accessories\", 'Apparel_Shoes', df['category'])\n",
    "df['category']=np.where(df['category'] ==\"Undergarments and Basics\", 'Apparel_Shoes', df['category'])\n",
    "df['category']=np.where(df['category'] ==\"Men and Women's Shoes\", 'Apparel_Shoes', df['category'])\n",
    "df['category']=np.where(df['category'] ==\"Costumes\", 'Apparel_Shoes', df['category'])\n",
    "df['category']=np.where(df['category'] ==\"Women's Shoes\", 'Apparel_Shoes', df['category'])\n",
    "\n",
    "df['category']=np.where(df['category'] ==\"Fitness Programs\", 'Fitness_Health', df['category'])\n",
    "df['category']=np.where(df['category'] ==\"Fitness Apparel and Accessories\", 'Fitness_Health', df['category'])\n",
    "df['category']=np.where(df['category'] ==\"Fitness Equipment\", 'Fitness_Health', df['category'])\n",
    "df['category']=np.where(df['category'] ==\"Health and Well-Being\", 'Fitness_Health', df['category'])\n",
    "df['category']=np.where(df['category'] ==\"Homeopathic Remedies\", 'Fitness_Health', df['category'])\n",
    "\n",
    "\n",
    "df['category']=np.where(df['category'] ==\"Women's Accessories\", 'Accessories', df['category'])\n",
    "df['category']=np.where(df['category'] ==\"Home Accessories\", 'Accessories', df['category'])\n",
    "df['category']=np.where(df['category'] ==\"Men's Accessories\", 'Accessories', df['category'])\n",
    "df['category']=np.where(df['category'] ==\"Wine Accessories\", 'Accessories', df['category'])\n",
    "df['category']=np.where(df['category'] ==\"Fashion Accessories\", 'Accessories', df['category'])\n",
    "df['category']=np.where(df['category'] ==\"Water Bottles\", 'Accessories', df['category'])\n",
    "df['category']=np.where(df['category'] ==\"Men and Women's Accessories\", 'Accessories', df['category'])\n",
    "\n",
    "df['category']=np.where(df['category'] ==\"Baby and Children's Bedding\", 'Baby_Children', df['category'])\n",
    "df['category']=np.where(df['category'] ==\"Baby and Children's Food\", 'Baby_Children', df['category'])\n",
    "df['category']=np.where(df['category'] ==\"Baby and Children's Apparel and Accessories\", 'Baby_Children', df['category'])\n",
    "df['category']=np.where(df['category'] ==\"Baby and Children's Entertainment\", 'Baby_Children', df['category'])\n",
    "df['category']=np.where(df['category'] ==\"Baby and Child Care\", 'Baby_Children', df['category'])\n",
    "df['category']=np.where(df['category'] ==\"Maternity\", 'Baby_Children', df['category'])\n",
    "\n",
    "df['category']=np.where(df['category'] ==\"Kitchen Tools\", 'Home', df['category'])\n",
    "df['category']=np.where(df['category'] ==\"Gardening\", 'Home', df['category'])\n",
    "df['category']=np.where(df['category'] ==\"Furniture\", 'Home', df['category'])\n",
    "df['category']=np.where(df['category'] ==\"Home Improvement\", 'Home', df['category'])\n",
    "df['category']=np.where(df['category'] ==\"Pest Control\", 'Home', df['category'])\n",
    "df['category']=np.where(df['category'] ==\"Home Security Solutions\", 'Home', df['category'])\n",
    "\n",
    "df['category']=np.where(df['category'] ==\"Golf Products\", 'Outdoor Recreation', df['category'])\n",
    "df['category']=np.where(df['category'] ==\"Cycling\", 'Outdoor Recreation', df['category'])\n",
    "\n",
    "df['category']=np.where(df['category'] ==\"Online Services\", 'Tech_Online_Electronics', df['category'])\n",
    "df['category']=np.where(df['category'] ==\"Electronics\", 'Tech_Online_Electronics', df['category'])\n",
    "df['category']=np.where(df['category'] ==\"Mobile Apps\", 'Tech_Online_Electronics', df['category'])\n",
    "df['category']=np.where(df['category'] ==\"Productivity Tools\", 'Tech_Online_Electronics', df['category'])\n",
    "\n",
    "df['category']=np.where(df['category'] ==\"Party Supplies\", 'Party_Weddings', df['category'])\n",
    "df['category']=np.where(df['category'] ==\"Weddings\", 'Party_Weddings', df['category'])\n"
   ]
  },
  {
   "cell_type": "code",
   "execution_count": 208,
   "metadata": {},
   "outputs": [
    {
     "data": {
      "text/plain": [
       "Specialty Food                   62\n",
       "Apparel_Shoes                    45\n",
       "Tech_Online_Electronics          45\n",
       "Baby_Children                    39\n",
       "Novelties                        35\n",
       "Home                             33\n",
       "Accessories                      32\n",
       "Fitness_Health                   28\n",
       "Outdoor Recreation               23\n",
       "Personal Care and Cosmetics      20\n",
       "Toys and Games                   19\n",
       "Storage and Cleaning Products    17\n",
       "Pet Products                     13\n",
       "Entertainment                    13\n",
       "Consumer Services                13\n",
       "Party_Weddings                   11\n",
       "Professional Services            10\n",
       "Automotive                       10\n",
       "Holiday Cheer                     8\n",
       "Music                             5\n",
       "Non-Alcoholic Beverages           5\n",
       "Alcoholic Beverages               5\n",
       "Education                         4\n",
       "Name: category, dtype: int64"
      ]
     },
     "execution_count": 208,
     "metadata": {},
     "output_type": "execute_result"
    }
   ],
   "source": [
    "df.category.value_counts()"
   ]
  },
  {
   "cell_type": "code",
   "execution_count": 209,
   "metadata": {},
   "outputs": [
    {
     "data": {
      "text/plain": [
       "Text(0, 0.5, 'Frequency of Deal')"
      ]
     },
     "execution_count": 209,
     "metadata": {},
     "output_type": "execute_result"
    },
    {
     "data": {
      "image/png": "[encoded data removed]",
      "text/plain": [
       "<Figure size 1440x720 with 1 Axes>"
      ]
     },
     "metadata": {},
     "output_type": "display_data"
    }
   ],
   "source": [
    "import matplotlib.pyplot as plt\n",
    "\n",
    "pd.crosstab(df.category,df.deal).plot(kind='bar', stacked = False, linewidth=2,figsize=(20,10))\n",
    "plt.title('Deal Frequency Per Category')\n",
    "plt.xlabel('Category')\n",
    "plt.ylabel('Frequency of Deal')"
   ]
  },
  {
   "cell_type": "code",
   "execution_count": 210,
   "metadata": {},
   "outputs": [
    {
     "data": {
      "text/plain": [
       "count    4.950000e+02\n",
       "mean     2.165615e+06\n",
       "std      3.761971e+06\n",
       "min      4.000000e+04\n",
       "25%      4.400000e+05\n",
       "50%      1.000000e+06\n",
       "75%      2.000000e+06\n",
       "max      3.000000e+07\n",
       "Name: valuation, dtype: float64"
      ]
     },
     "execution_count": 210,
     "metadata": {},
     "output_type": "execute_result"
    }
   ],
   "source": [
    "df.valuation.describe()"
   ]
  },
  {
   "cell_type": "code",
   "execution_count": 211,
   "metadata": {},
   "outputs": [
    {
     "data": {
      "text/plain": [
       "<matplotlib.axes._subplots.AxesSubplot at 0x1a2143ba20>"
      ]
     },
     "execution_count": 211,
     "metadata": {},
     "output_type": "execute_result"
    },
    {
     "data": {
      "image/png": "[encoded data removed]",
      "text/plain": [
       "<Figure size 432x288 with 1 Axes>"
      ]
     },
     "metadata": {},
     "output_type": "display_data"
    }
   ],
   "source": [
    "df.valuation.hist(bins=20)"
   ]
  },
  {
   "cell_type": "code",
   "execution_count": 212,
   "metadata": {},
   "outputs": [
    {
     "data": {
      "text/plain": [
       "<matplotlib.axes._subplots.AxesSubplot at 0x1a21445e80>"
      ]
     },
     "execution_count": 212,
     "metadata": {},
     "output_type": "execute_result"
    },
    {
     "data": {
      "image/png": "[encoded data removed]",
      "text/plain": [
       "<Figure size 432x288 with 1 Axes>"
      ]
     },
     "metadata": {},
     "output_type": "display_data"
    }
   ],
   "source": [
    "df.exchangeForStake.hist()"
   ]
  },
  {
   "cell_type": "code",
   "execution_count": 213,
   "metadata": {},
   "outputs": [
    {
     "data": {
      "text/plain": [
       "Index(['deal', 'description', 'episode', 'category', 'entrepreneurs',\n",
       "       'location', 'website', 'askedFor', 'exchangeForStake', 'valuation',\n",
       "       'season', 'shark1', 'shark2', 'shark3', 'shark4', 'shark5', 'title',\n",
       "       'episode-season', 'Multiple Entreprenuers'],\n",
       "      dtype='object')"
      ]
     },
     "execution_count": 213,
     "metadata": {},
     "output_type": "execute_result"
    }
   ],
   "source": [
    "df.columns"
   ]
  },
  {
   "cell_type": "code",
   "execution_count": 214,
   "metadata": {},
   "outputs": [],
   "source": [
    "df['state'] = df['location'].str[-2:]"
   ]
  },
  {
   "cell_type": "code",
   "execution_count": 215,
   "metadata": {},
   "outputs": [
    {
     "data": {
      "text/plain": [
       "Text(0, 0.5, 'Frequency of Deal')"
      ]
     },
     "execution_count": 215,
     "metadata": {},
     "output_type": "execute_result"
    },
    {
     "data": {
      "image/png": "[encoded data removed]",
      "text/plain": [
       "<Figure size 1440x720 with 1 Axes>"
      ]
     },
     "metadata": {},
     "output_type": "display_data"
    }
   ],
   "source": [
    "pd.crosstab(df.state,df.deal).plot(kind='bar', stacked = False, linewidth=1,figsize=(20,10))\n",
    "plt.title('Deal Frequency Per State')\n",
    "plt.xlabel('State')\n",
    "plt.ylabel('Frequency of Deal')"
   ]
  },
  {
   "cell_type": "code",
   "execution_count": 216,
   "metadata": {},
   "outputs": [],
   "source": [
    "columns = ['category', 'state','askedFor','exchangeForStake','valuation', 'season']\n",
    "X = df[columns]\n",
    "y = df.deal\n"
   ]
  },
  {
   "cell_type": "code",
   "execution_count": 217,
   "metadata": {},
   "outputs": [],
   "source": [
    "X = pd.get_dummies(X, drop_first = True)\n",
    "features = list(X)"
   ]
  },
  {
   "cell_type": "code",
   "execution_count": 218,
   "metadata": {},
   "outputs": [
    {
     "name": "stdout",
     "output_type": "stream",
     "text": [
      "[ True  True  True  True False False False False  True False False False\n",
      " False  True False False False  True False False False  True  True  True\n",
      " False False False False False  True False False False False  True False\n",
      " False False False False False False False False False False False False\n",
      " False False False False False  True False  True False False False False\n",
      " False False False  True False False False False False]\n",
      "[ 1  1  1  1 31 54 18 29  1 19  4 50  5  1 33 35 20  1 52 10 48  1  1  1\n",
      " 12 32 41 23 34  1  8 37 28 39  1 11 40 47  3 14 45 22 27 53 44 15 16  6\n",
      " 55 43  9 42 38  1 13  1 30 49 17 21 36 24 25  1  2  7 26 51 46]\n",
      "Features sorted by their rank:\n",
      "[(1, 'askedFor'), (1, 'category_Consumer Services'), (1, 'category_Home'), (1, 'category_Outdoor Recreation'), (1, 'category_Professional Services'), (1, 'category_Specialty Food'), (1, 'category_Storage and Cleaning Products'), (1, 'exchangeForStake'), (1, 'season'), (1, 'state_CA'), (1, 'state_FL'), (1, 'state_NJ'), (1, 'state_NY'), (1, 'state_TX'), (1, 'valuation'), (2, 'state_UT'), (3, 'state_IL'), (4, 'category_Entertainment'), (5, 'category_Holiday Cheer'), (6, 'state_MO'), (7, 'state_VA'), (8, 'state_CO'), (9, 'state_NC'), (10, 'category_Personal Care and Cosmetics'), (11, 'state_GA'), (12, 'category_Tech_Online_Electronics'), (13, 'state_NV'), (14, 'state_IN'), (15, 'state_MI'), (16, 'state_MN'), (17, 'state_OR'), (18, 'category_Automotive'), (19, 'category_Education'), (20, 'category_Novelties'), (21, 'state_PA'), (22, 'state_KY'), (23, 'state_AR'), (24, 'state_SC'), (25, 'state_TN'), (26, 'state_VT'), (27, 'state_LA'), (28, 'state_DC'), (29, 'category_Baby_Children'), (30, 'state_OH'), (31, 'category_Alcoholic Beverages'), (32, 'category_Toys and Games'), (33, 'category_Music'), (34, 'state_AZ'), (35, 'category_Non-Alcoholic Beverages'), (36, 'state_RI'), (37, 'state_CT'), (38, 'state_NH'), (39, 'state_DE'), (40, 'state_IA'), (41, 'state_AL'), (42, 'state_NE'), (43, 'state_MT'), (44, 'state_MD'), (45, 'state_KS'), (46, 'state_WI'), (47, 'state_ID'), (48, 'category_Pet Products'), (49, 'state_OK'), (50, 'category_Fitness_Health'), (51, 'state_WA'), (52, 'category_Party_Weddings'), (53, 'state_MA'), (54, 'category_Apparel_Shoes'), (55, 'state_MS')]\n"
     ]
    },
    {
     "name": "stderr",
     "output_type": "stream",
     "text": [
      "/anaconda3/lib/python3.6/site-packages/sklearn/linear_model/logistic.py:433: FutureWarning: Default solver will be changed to 'lbfgs' in 0.22. Specify a solver to silence this warning.\n",
      "  FutureWarning)\n",
      "/anaconda3/lib/python3.6/site-packages/sklearn/linear_model/logistic.py:433: FutureWarning: Default solver will be changed to 'lbfgs' in 0.22. Specify a solver to silence this warning.\n",
      "  FutureWarning)\n",
      "/anaconda3/lib/python3.6/site-packages/sklearn/linear_model/logistic.py:433: FutureWarning: Default solver will be changed to 'lbfgs' in 0.22. Specify a solver to silence this warning.\n",
      "  FutureWarning)\n",
      "/anaconda3/lib/python3.6/site-packages/sklearn/linear_model/logistic.py:433: FutureWarning: Default solver will be changed to 'lbfgs' in 0.22. Specify a solver to silence this warning.\n",
      "  FutureWarning)\n",
      "/anaconda3/lib/python3.6/site-packages/sklearn/linear_model/logistic.py:433: FutureWarning: Default solver will be changed to 'lbfgs' in 0.22. Specify a solver to silence this warning.\n",
      "  FutureWarning)\n",
      "/anaconda3/lib/python3.6/site-packages/sklearn/linear_model/logistic.py:433: FutureWarning: Default solver will be changed to 'lbfgs' in 0.22. Specify a solver to silence this warning.\n",
      "  FutureWarning)\n",
      "/anaconda3/lib/python3.6/site-packages/sklearn/linear_model/logistic.py:433: FutureWarning: Default solver will be changed to 'lbfgs' in 0.22. Specify a solver to silence this warning.\n",
      "  FutureWarning)\n",
      "/anaconda3/lib/python3.6/site-packages/sklearn/linear_model/logistic.py:433: FutureWarning: Default solver will be changed to 'lbfgs' in 0.22. Specify a solver to silence this warning.\n",
      "  FutureWarning)\n",
      "/anaconda3/lib/python3.6/site-packages/sklearn/linear_model/logistic.py:433: FutureWarning: Default solver will be changed to 'lbfgs' in 0.22. Specify a solver to silence this warning.\n",
      "  FutureWarning)\n",
      "/anaconda3/lib/python3.6/site-packages/sklearn/linear_model/logistic.py:433: FutureWarning: Default solver will be changed to 'lbfgs' in 0.22. Specify a solver to silence this warning.\n",
      "  FutureWarning)\n",
      "/anaconda3/lib/python3.6/site-packages/sklearn/linear_model/logistic.py:433: FutureWarning: Default solver will be changed to 'lbfgs' in 0.22. Specify a solver to silence this warning.\n",
      "  FutureWarning)\n",
      "/anaconda3/lib/python3.6/site-packages/sklearn/linear_model/logistic.py:433: FutureWarning: Default solver will be changed to 'lbfgs' in 0.22. Specify a solver to silence this warning.\n",
      "  FutureWarning)\n",
      "/anaconda3/lib/python3.6/site-packages/sklearn/linear_model/logistic.py:433: FutureWarning: Default solver will be changed to 'lbfgs' in 0.22. Specify a solver to silence this warning.\n",
      "  FutureWarning)\n",
      "/anaconda3/lib/python3.6/site-packages/sklearn/linear_model/logistic.py:433: FutureWarning: Default solver will be changed to 'lbfgs' in 0.22. Specify a solver to silence this warning.\n",
      "  FutureWarning)\n",
      "/anaconda3/lib/python3.6/site-packages/sklearn/linear_model/logistic.py:433: FutureWarning: Default solver will be changed to 'lbfgs' in 0.22. Specify a solver to silence this warning.\n",
      "  FutureWarning)\n",
      "/anaconda3/lib/python3.6/site-packages/sklearn/linear_model/logistic.py:433: FutureWarning: Default solver will be changed to 'lbfgs' in 0.22. Specify a solver to silence this warning.\n",
      "  FutureWarning)\n",
      "/anaconda3/lib/python3.6/site-packages/sklearn/linear_model/logistic.py:433: FutureWarning: Default solver will be changed to 'lbfgs' in 0.22. Specify a solver to silence this warning.\n",
      "  FutureWarning)\n",
      "/anaconda3/lib/python3.6/site-packages/sklearn/linear_model/logistic.py:433: FutureWarning: Default solver will be changed to 'lbfgs' in 0.22. Specify a solver to silence this warning.\n",
      "  FutureWarning)\n",
      "/anaconda3/lib/python3.6/site-packages/sklearn/linear_model/logistic.py:433: FutureWarning: Default solver will be changed to 'lbfgs' in 0.22. Specify a solver to silence this warning.\n",
      "  FutureWarning)\n",
      "/anaconda3/lib/python3.6/site-packages/sklearn/linear_model/logistic.py:433: FutureWarning: Default solver will be changed to 'lbfgs' in 0.22. Specify a solver to silence this warning.\n",
      "  FutureWarning)\n",
      "/anaconda3/lib/python3.6/site-packages/sklearn/linear_model/logistic.py:433: FutureWarning: Default solver will be changed to 'lbfgs' in 0.22. Specify a solver to silence this warning.\n",
      "  FutureWarning)\n",
      "/anaconda3/lib/python3.6/site-packages/sklearn/linear_model/logistic.py:433: FutureWarning: Default solver will be changed to 'lbfgs' in 0.22. Specify a solver to silence this warning.\n",
      "  FutureWarning)\n",
      "/anaconda3/lib/python3.6/site-packages/sklearn/linear_model/logistic.py:433: FutureWarning: Default solver will be changed to 'lbfgs' in 0.22. Specify a solver to silence this warning.\n",
      "  FutureWarning)\n",
      "/anaconda3/lib/python3.6/site-packages/sklearn/linear_model/logistic.py:433: FutureWarning: Default solver will be changed to 'lbfgs' in 0.22. Specify a solver to silence this warning.\n",
      "  FutureWarning)\n",
      "/anaconda3/lib/python3.6/site-packages/sklearn/linear_model/logistic.py:433: FutureWarning: Default solver will be changed to 'lbfgs' in 0.22. Specify a solver to silence this warning.\n",
      "  FutureWarning)\n",
      "/anaconda3/lib/python3.6/site-packages/sklearn/linear_model/logistic.py:433: FutureWarning: Default solver will be changed to 'lbfgs' in 0.22. Specify a solver to silence this warning.\n",
      "  FutureWarning)\n",
      "/anaconda3/lib/python3.6/site-packages/sklearn/linear_model/logistic.py:433: FutureWarning: Default solver will be changed to 'lbfgs' in 0.22. Specify a solver to silence this warning.\n",
      "  FutureWarning)\n",
      "/anaconda3/lib/python3.6/site-packages/sklearn/linear_model/logistic.py:433: FutureWarning: Default solver will be changed to 'lbfgs' in 0.22. Specify a solver to silence this warning.\n",
      "  FutureWarning)\n",
      "/anaconda3/lib/python3.6/site-packages/sklearn/linear_model/logistic.py:433: FutureWarning: Default solver will be changed to 'lbfgs' in 0.22. Specify a solver to silence this warning.\n",
      "  FutureWarning)\n",
      "/anaconda3/lib/python3.6/site-packages/sklearn/linear_model/logistic.py:433: FutureWarning: Default solver will be changed to 'lbfgs' in 0.22. Specify a solver to silence this warning.\n",
      "  FutureWarning)\n",
      "/anaconda3/lib/python3.6/site-packages/sklearn/linear_model/logistic.py:433: FutureWarning: Default solver will be changed to 'lbfgs' in 0.22. Specify a solver to silence this warning.\n",
      "  FutureWarning)\n",
      "/anaconda3/lib/python3.6/site-packages/sklearn/linear_model/logistic.py:433: FutureWarning: Default solver will be changed to 'lbfgs' in 0.22. Specify a solver to silence this warning.\n",
      "  FutureWarning)\n",
      "/anaconda3/lib/python3.6/site-packages/sklearn/linear_model/logistic.py:433: FutureWarning: Default solver will be changed to 'lbfgs' in 0.22. Specify a solver to silence this warning.\n",
      "  FutureWarning)\n",
      "/anaconda3/lib/python3.6/site-packages/sklearn/linear_model/logistic.py:433: FutureWarning: Default solver will be changed to 'lbfgs' in 0.22. Specify a solver to silence this warning.\n",
      "  FutureWarning)\n",
      "/anaconda3/lib/python3.6/site-packages/sklearn/linear_model/logistic.py:433: FutureWarning: Default solver will be changed to 'lbfgs' in 0.22. Specify a solver to silence this warning.\n",
      "  FutureWarning)\n",
      "/anaconda3/lib/python3.6/site-packages/sklearn/linear_model/logistic.py:433: FutureWarning: Default solver will be changed to 'lbfgs' in 0.22. Specify a solver to silence this warning.\n",
      "  FutureWarning)\n",
      "/anaconda3/lib/python3.6/site-packages/sklearn/linear_model/logistic.py:433: FutureWarning: Default solver will be changed to 'lbfgs' in 0.22. Specify a solver to silence this warning.\n",
      "  FutureWarning)\n",
      "/anaconda3/lib/python3.6/site-packages/sklearn/linear_model/logistic.py:433: FutureWarning: Default solver will be changed to 'lbfgs' in 0.22. Specify a solver to silence this warning.\n",
      "  FutureWarning)\n",
      "/anaconda3/lib/python3.6/site-packages/sklearn/linear_model/logistic.py:433: FutureWarning: Default solver will be changed to 'lbfgs' in 0.22. Specify a solver to silence this warning.\n",
      "  FutureWarning)\n",
      "/anaconda3/lib/python3.6/site-packages/sklearn/linear_model/logistic.py:433: FutureWarning: Default solver will be changed to 'lbfgs' in 0.22. Specify a solver to silence this warning.\n",
      "  FutureWarning)\n",
      "/anaconda3/lib/python3.6/site-packages/sklearn/linear_model/logistic.py:433: FutureWarning: Default solver will be changed to 'lbfgs' in 0.22. Specify a solver to silence this warning.\n",
      "  FutureWarning)\n",
      "/anaconda3/lib/python3.6/site-packages/sklearn/linear_model/logistic.py:433: FutureWarning: Default solver will be changed to 'lbfgs' in 0.22. Specify a solver to silence this warning.\n",
      "  FutureWarning)\n",
      "/anaconda3/lib/python3.6/site-packages/sklearn/linear_model/logistic.py:433: FutureWarning: Default solver will be changed to 'lbfgs' in 0.22. Specify a solver to silence this warning.\n",
      "  FutureWarning)\n",
      "/anaconda3/lib/python3.6/site-packages/sklearn/linear_model/logistic.py:433: FutureWarning: Default solver will be changed to 'lbfgs' in 0.22. Specify a solver to silence this warning.\n",
      "  FutureWarning)\n",
      "/anaconda3/lib/python3.6/site-packages/sklearn/linear_model/logistic.py:433: FutureWarning: Default solver will be changed to 'lbfgs' in 0.22. Specify a solver to silence this warning.\n",
      "  FutureWarning)\n",
      "/anaconda3/lib/python3.6/site-packages/sklearn/linear_model/logistic.py:433: FutureWarning: Default solver will be changed to 'lbfgs' in 0.22. Specify a solver to silence this warning.\n",
      "  FutureWarning)\n",
      "/anaconda3/lib/python3.6/site-packages/sklearn/linear_model/logistic.py:433: FutureWarning: Default solver will be changed to 'lbfgs' in 0.22. Specify a solver to silence this warning.\n",
      "  FutureWarning)\n",
      "/anaconda3/lib/python3.6/site-packages/sklearn/linear_model/logistic.py:433: FutureWarning: Default solver will be changed to 'lbfgs' in 0.22. Specify a solver to silence this warning.\n",
      "  FutureWarning)\n",
      "/anaconda3/lib/python3.6/site-packages/sklearn/linear_model/logistic.py:433: FutureWarning: Default solver will be changed to 'lbfgs' in 0.22. Specify a solver to silence this warning.\n",
      "  FutureWarning)\n",
      "/anaconda3/lib/python3.6/site-packages/sklearn/linear_model/logistic.py:433: FutureWarning: Default solver will be changed to 'lbfgs' in 0.22. Specify a solver to silence this warning.\n",
      "  FutureWarning)\n",
      "/anaconda3/lib/python3.6/site-packages/sklearn/linear_model/logistic.py:433: FutureWarning: Default solver will be changed to 'lbfgs' in 0.22. Specify a solver to silence this warning.\n",
      "  FutureWarning)\n",
      "/anaconda3/lib/python3.6/site-packages/sklearn/linear_model/logistic.py:433: FutureWarning: Default solver will be changed to 'lbfgs' in 0.22. Specify a solver to silence this warning.\n",
      "  FutureWarning)\n",
      "/anaconda3/lib/python3.6/site-packages/sklearn/linear_model/logistic.py:433: FutureWarning: Default solver will be changed to 'lbfgs' in 0.22. Specify a solver to silence this warning.\n",
      "  FutureWarning)\n",
      "/anaconda3/lib/python3.6/site-packages/sklearn/linear_model/logistic.py:433: FutureWarning: Default solver will be changed to 'lbfgs' in 0.22. Specify a solver to silence this warning.\n",
      "  FutureWarning)\n",
      "/anaconda3/lib/python3.6/site-packages/sklearn/linear_model/logistic.py:433: FutureWarning: Default solver will be changed to 'lbfgs' in 0.22. Specify a solver to silence this warning.\n",
      "  FutureWarning)\n"
     ]
    }
   ],
   "source": [
    "from sklearn.feature_selection import RFE\n",
    "from sklearn.linear_model import LogisticRegression\n",
    "logreg = LogisticRegression()\n",
    "rfe = RFE(logreg, 15)\n",
    "rfe = rfe.fit(X, y.values.ravel())\n",
    "print(rfe.support_)\n",
    "print(rfe.ranking_)\n",
    "print (\"Features sorted by their rank:\")\n",
    "print (sorted(zip(map(lambda x: round(x, 2), rfe.ranking_), features)))"
   ]
  },
  {
   "cell_type": "code",
   "execution_count": 219,
   "metadata": {},
   "outputs": [
    {
     "name": "stdout",
     "output_type": "stream",
     "text": [
      "Warning: Maximum number of iterations has been exceeded.\n",
      "         Current function value: 0.640712\n",
      "         Iterations: 35\n",
      "                                     Results: Logit\n",
      "=========================================================================================\n",
      "Model:                      Logit                    Pseudo R-squared:         0.076     \n",
      "Dependent Variable:         deal                     AIC:                      674.3049  \n",
      "Date:                       2018-12-23 20:53         BIC:                      758.3960  \n",
      "No. Observations:           495                      Log-Likelihood:           -317.15   \n",
      "Df Model:                   19                       LL-Null:                  -343.06   \n",
      "Df Residuals:               475                      LLR p-value:              7.0591e-05\n",
      "Converged:                  0.0000                   Scale:                    1.0000    \n",
      "No. Iterations:             35.0000                                                      \n",
      "-----------------------------------------------------------------------------------------\n",
      "                                        Coef.  Std.Err.    z    P>|z|    [0.025   0.975] \n",
      "-----------------------------------------------------------------------------------------\n",
      "askedFor                                0.0000   0.0000  0.5530 0.5803   -0.0000   0.0000\n",
      "category_Consumer Services             -1.1227   0.6763 -1.6601 0.0969   -2.4481   0.2028\n",
      "category_Home                           0.5904   0.3933  1.5014 0.1332   -0.1803   1.3612\n",
      "category_Outdoor Recreation             0.7983   0.4677  1.7067 0.0879   -0.1184   1.7151\n",
      "category_Professional Services         -1.4970   0.8492 -1.7630 0.0779   -3.1613   0.1673\n",
      "category_Specialty Food                 0.2912   0.2840  1.0255 0.3051   -0.2654   0.8477\n",
      "category_Storage and Cleaning Products  1.0133   0.6064  1.6710 0.0947   -0.1752   2.2018\n",
      "exchangeForStake                       -0.0294   0.0089 -3.3079 0.0009   -0.0468  -0.0120\n",
      "season                                  0.0536   0.0424  1.2635 0.2064   -0.0296   0.1368\n",
      "state_CA                                0.4153   0.2250  1.8461 0.0649   -0.0256   0.8562\n",
      "state_FL                                0.9427   0.4098  2.3003 0.0214    0.1395   1.7459\n",
      "state_NJ                                1.8995   0.8397  2.2620 0.0237    0.2536   3.5453\n",
      "state_NY                                0.0023   0.3632  0.0065 0.9948   -0.7094   0.7141\n",
      "state_TX                                0.7810   0.3784  2.0640 0.0390    0.0394   1.5226\n",
      "valuation                              -0.0000   0.0000 -1.5995 0.1097   -0.0000   0.0000\n",
      "state_UT                                0.7937   0.5493  1.4450 0.1485   -0.2828   1.8702\n",
      "state_IL                                0.8696   0.4760  1.8271 0.0677   -0.0632   1.8025\n",
      "category_Entertainment                 -0.7691   0.6416 -1.1987 0.2307   -2.0267   0.4885\n",
      "category_Holiday Cheer                  1.0068   0.8373  1.2025 0.2292   -0.6342   2.6478\n",
      "state_MO                               13.1485 407.9871  0.0322 0.9743 -786.4914 812.7885\n",
      "=========================================================================================\n",
      "\n"
     ]
    },
    {
     "name": "stderr",
     "output_type": "stream",
     "text": [
      "/anaconda3/lib/python3.6/site-packages/statsmodels/base/model.py:508: ConvergenceWarning: Maximum Likelihood optimization failed to converge. Check mle_retvals\n",
      "  \"Check mle_retvals\", ConvergenceWarning)\n"
     ]
    }
   ],
   "source": [
    "cols=['askedFor', 'category_Consumer Services', 'category_Home', 'category_Outdoor Recreation', 'category_Professional Services', 'category_Specialty Food', 'category_Storage and Cleaning Products', \n",
    "      'exchangeForStake', 'season', 'state_CA', 'state_FL', 'state_NJ', 'state_NY', 'state_TX', 'valuation', \n",
    "      'state_UT', 'state_IL', 'category_Entertainment', \"category_Holiday Cheer\", \"state_MO\"] \n",
    "X=X[cols]\n",
    "\n",
    "import statsmodels.api as sm\n",
    "logit_model=sm.Logit(y,X)\n",
    "result=logit_model.fit()\n",
    "print(result.summary2())\n"
   ]
  },
  {
   "cell_type": "code",
   "execution_count": 166,
   "metadata": {},
   "outputs": [],
   "source": [
    "import statsmodels.api as sm\n",
    "# logit_model=sm.Logit(y,X, missing='drop')\n",
    "# result=logit_model.fit()\n",
    "# print(result.summary())\n",
    "from sklearn.model_selection import train_test_split\n",
    "\n",
    "X_train, X_test, y_train, y_test=train_test_split(X, y, test_size=0.3, random_state = 0)\n"
   ]
  },
  {
   "cell_type": "code",
   "execution_count": 168,
   "metadata": {},
   "outputs": [
    {
     "name": "stderr",
     "output_type": "stream",
     "text": [
      "/anaconda3/lib/python3.6/site-packages/sklearn/linear_model/logistic.py:433: FutureWarning: Default solver will be changed to 'lbfgs' in 0.22. Specify a solver to silence this warning.\n",
      "  FutureWarning)\n"
     ]
    },
    {
     "data": {
      "text/plain": [
       "LogisticRegression(C=1.0, class_weight=None, dual=False, fit_intercept=True,\n",
       "          intercept_scaling=1, max_iter=100, multi_class='warn',\n",
       "          n_jobs=None, penalty='l2', random_state=None, solver='warn',\n",
       "          tol=0.0001, verbose=0, warm_start=False)"
      ]
     },
     "execution_count": 168,
     "metadata": {},
     "output_type": "execute_result"
    }
   ],
   "source": [
    "logreg = LogisticRegression()\n",
    "logreg.fit(X_train, y_train)"
   ]
  },
  {
   "cell_type": "code",
   "execution_count": 169,
   "metadata": {},
   "outputs": [
    {
     "name": "stdout",
     "output_type": "stream",
     "text": [
      "Accuracy of logistic regression classifier on test set: 0.48\n"
     ]
    }
   ],
   "source": [
    "y_pred = logreg.predict(X_test)\n",
    "print('Accuracy of logistic regression classifier on test set: {:.2f}'.format(logreg.score(X_test, y_test)))"
   ]
  },
  {
   "cell_type": "code",
   "execution_count": 170,
   "metadata": {},
   "outputs": [
    {
     "name": "stdout",
     "output_type": "stream",
     "text": [
      "              precision    recall  f1-score   support\n",
      "\n",
      "       False       0.48      0.86      0.61        72\n",
      "        True       0.47      0.12      0.19        77\n",
      "\n",
      "   micro avg       0.48      0.48      0.48       149\n",
      "   macro avg       0.48      0.49      0.40       149\n",
      "weighted avg       0.48      0.48      0.39       149\n",
      "\n"
     ]
    }
   ],
   "source": [
    "from sklearn.metrics import classification_report\n",
    "print(classification_report(y_test, y_pred))"
   ]
  },
  {
   "cell_type": "code",
   "execution_count": 197,
   "metadata": {},
   "outputs": [
    {
     "name": "stdout",
     "output_type": "stream",
     "text": [
      "[[62 10]\n",
      " [68  9]]\n"
     ]
    }
   ],
   "source": [
    "from sklearn.metrics import confusion_matrix\n",
    "confusion_matrix = confusion_matrix(y_test, y_pred)\n",
    "print(confusion_matrix)"
   ]
  },
  {
   "cell_type": "code",
   "execution_count": 222,
   "metadata": {},
   "outputs": [
    {
     "name": "stdout",
     "output_type": "stream",
     "text": [
      "AUC: 0.5393217893217894\n"
     ]
    },
    {
     "name": "stderr",
     "output_type": "stream",
     "text": [
      "/anaconda3/lib/python3.6/site-packages/sklearn/linear_model/logistic.py:433: FutureWarning: Default solver will be changed to 'lbfgs' in 0.22. Specify a solver to silence this warning.\n",
      "  FutureWarning)\n"
     ]
    }
   ],
   "source": [
    "from sklearn.metrics import roc_auc_score, auc\n",
    "from sklearn.metrics import roc_curve\n",
    "\n",
    "y_score = logreg.fit(X_train, y_train).decision_function(X_test)\n",
    "fpr, tpr, thresholds = roc_curve(y_test, y_score)\n",
    "print('AUC: {}'.format(auc(fpr, tpr)))"
   ]
  },
  {
   "cell_type": "code",
   "execution_count": 223,
   "metadata": {},
   "outputs": [
    {
     "name": "stdout",
     "output_type": "stream",
     "text": [
      "AUC: 0.5393217893217894\n"
     ]
    },
    {
     "data": {
      "image/png": "[encoded data removed]",
      "text/plain": [
       "<Figure size 720x576 with 1 Axes>"
      ]
     },
     "metadata": {},
     "output_type": "display_data"
    }
   ],
   "source": [
    "import matplotlib.pyplot as plt\n",
    "import seaborn as sns\n",
    "%matplotlib inline\n",
    "\n",
    "#Seaborns Beautiful Styling\n",
    "sns.set_style(\"darkgrid\", {\"axes.facecolor\": \".9\"})\n",
    "\n",
    "print('AUC: {}'.format(auc(fpr, tpr)))\n",
    "plt.figure(figsize=(10,8))\n",
    "lw = 2\n",
    "plt.plot(fpr, tpr, color='darkorange',\n",
    "         lw=lw, label='ROC curve')\n",
    "plt.plot([0, 1], [0, 1], color='navy', lw=lw, linestyle='--')\n",
    "plt.xlim([0.0, 1.0])\n",
    "plt.ylim([0.0, 1.05])\n",
    "plt.yticks([i/20.0 for i in range(21)])\n",
    "plt.xticks([i/20.0 for i in range(21)])\n",
    "plt.xlabel('False Positive Rate')\n",
    "plt.ylabel('True Positive Rate')\n",
    "plt.title('Receiver operating characteristic (ROC) Curve')\n",
    "plt.legend(loc=\"lower right\")\n",
    "plt.show()"
   ]
  },
  {
   "cell_type": "code",
   "execution_count": 225,
   "metadata": {},
   "outputs": [],
   "source": [
    "from sklearn.linear_model import LogisticRegression # Regression classifier\n",
    "from sklearn.tree import DecisionTreeClassifier # Decision Tree classifier\n",
    "from sklearn import svm # Support Vector Machine\n",
    "from sklearn.ensemble import RandomForestClassifier, GradientBoostingClassifier # Random Forest and Gradient Boosting Classifier\n",
    "from sklearn.metrics import accuracy_score, recall_score, confusion_matrix"
   ]
  },
  {
   "cell_type": "code",
   "execution_count": 226,
   "metadata": {},
   "outputs": [],
   "source": [
    "def ML_Pipeline(clf_name):\n",
    "    clf = Classifiers[clf_name]\n",
    "    fit = clf.fit(train_features,train['Deal_Status'])\n",
    "    pred = clf.predict(test_features)\n",
    "    Accuracy = accuracy_score(test['Deal_Status'],pred)\n",
    "    Confusion_matrix = confusion_matrix(test['Deal_Status'],pred)\n",
    "    print('==='*20)\n",
    "    print('Accuracy = '+str(Accuracy))\n",
    "    print('==='*20) \n",
    "    print(Confusion_matrix)"
   ]
  },
  {
   "cell_type": "code",
   "execution_count": 229,
   "metadata": {},
   "outputs": [
    {
     "name": "stdout",
     "output_type": "stream",
     "text": [
      "============================================================\n",
      "Accuracy = 0.5234899328859061\n",
      "============================================================\n",
      "[[41 31]\n",
      " [40 37]]\n"
     ]
    }
   ],
   "source": [
    "dtc = DecisionTreeClassifier()\n",
    "dtc.fit(X_train, y_train)\n",
    "y_pred = dtc.predict(X_test)\n",
    "Accuracy = accuracy_score(y_test, y_pred)\n",
    "Confusion_matrix = confusion_matrix(y_test, y_pred)\n",
    "print('==='*20)\n",
    "print('Accuracy = '+str(Accuracy))\n",
    "print('==='*20) \n",
    "print(Confusion_matrix)"
   ]
  },
  {
   "cell_type": "code",
   "execution_count": 231,
   "metadata": {},
   "outputs": [
    {
     "name": "stdout",
     "output_type": "stream",
     "text": [
      "============================================================\n",
      "Accuracy = 0.5033557046979866\n",
      "============================================================\n",
      "[[43 29]\n",
      " [45 32]]\n"
     ]
    },
    {
     "name": "stderr",
     "output_type": "stream",
     "text": [
      "/anaconda3/lib/python3.6/site-packages/sklearn/ensemble/forest.py:246: FutureWarning: The default value of n_estimators will change from 10 in version 0.20 to 100 in 0.22.\n",
      "  \"10 in version 0.20 to 100 in 0.22.\", FutureWarning)\n"
     ]
    }
   ],
   "source": [
    "RFC = RandomForestClassifier()\n",
    "RFC.fit(X_train, y_train)\n",
    "y_pred = RFC.predict(X_test)\n",
    "Accuracy = accuracy_score(y_test, y_pred)\n",
    "Confusion_matrix = confusion_matrix(y_test, y_pred)\n",
    "print('==='*20)\n",
    "print('Accuracy = '+str(Accuracy))\n",
    "print('==='*20) \n",
    "print(Confusion_matrix)"
   ]
  },
  {
   "cell_type": "code",
   "execution_count": null,
   "metadata": {},
   "outputs": [],
   "source": []
  }
 ],
 "metadata": {
  "kernelspec": {
   "display_name": "Python 3",
   "language": "python",
   "name": "python3"
  },
  "language_info": {
   "codemirror_mode": {
    "name": "ipython",
    "version": 3
   },
   "file_extension": ".py",
   "mimetype": "text/x-python",
   "name": "python",
   "nbconvert_exporter": "python",
   "pygments_lexer": "ipython3",
   "version": "3.6.7"
  }
 },
 "nbformat": 4,
 "nbformat_minor": 2
}
